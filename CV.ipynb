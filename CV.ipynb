{
 "cells": [
  {
   "cell_type": "code",
   "execution_count": 1,
   "metadata": {},
   "outputs": [],
   "source": [
    "import numpy as np\n",
    "import matplotlib.pyplot as plt\n",
    "import cv2\n",
    "import os"
   ]
  },
  {
   "cell_type": "markdown",
   "metadata": {},
   "source": [
    "Read and Show Images"
   ]
  },
  {
   "cell_type": "code",
   "execution_count": 2,
   "metadata": {},
   "outputs": [],
   "source": [
    "#Read and Show Single image\n",
    "\n",
    "img=cv2.imread(\"F:\\\\Computer vision\\\\OpenCV\\\\images\\\\img1.jpg\")\n",
    "cv2.imshow(\"Img_1\",img)\n",
    "cv2.waitKey(0)\n",
    "cv2.destroyAllWindows()"
   ]
  },
  {
   "cell_type": "code",
   "execution_count": 3,
   "metadata": {},
   "outputs": [],
   "source": [
    "#read and show multiple images\n",
    "img=cv2.imread(\"F:\\\\Computer vision\\\\OpenCV\\\\images\\\\img1.jpg\")\n",
    "img_2=cv2.imread(\"F:\\\\Computer vision\\\\OpenCV\\\\images\\\\img2.jpg\")\n",
    "re_img_2=cv2.resize(img_2,(400,400)) ##resize an image\n",
    "cv2.imshow(\"Img_1\",img)\n",
    "cv2.imshow(\"Img_2\",re_img_2)\n",
    "cv2.waitKey(0)\n",
    "cv2.destroyAllWindows()"
   ]
  },
  {
   "cell_type": "markdown",
   "metadata": {},
   "source": [
    "Show Multiple Images in Single Frame\""
   ]
  },
  {
   "cell_type": "code",
   "execution_count": 4,
   "metadata": {},
   "outputs": [],
   "source": [
    "img=cv2.imread(\"F:\\\\Computer vision\\\\OpenCV\\\\images\\\\img1.jpg\")\n",
    "img_2=cv2.imread(\"F:\\\\Computer vision\\\\OpenCV\\\\images\\\\img2.jpg\")\n",
    "re_img_1=cv2.resize(img,(300,300)) ##resize an image\n",
    "re_img_2=cv2.resize(img_2,(300,300)) ##resize an image\n",
    "#cv2.imshow(\"Img_1\",re_img_1)\n",
    "#cv2.imshow(\"Img_2\",re_img_2)\n",
    "h=np.hstack((re_img_1,re_img_2))\n",
    "v=np.vstack((h,h))\n",
    "cv2.imshow(\"Mul_Img\",v)\n",
    "cv2.waitKey(0)\n",
    "cv2.destroyAllWindows()"
   ]
  },
  {
   "cell_type": "markdown",
   "metadata": {},
   "source": [
    "Slide Show Using Opnecv"
   ]
  },
  {
   "cell_type": "code",
   "execution_count": 5,
   "metadata": {},
   "outputs": [
    {
     "data": {
      "text/plain": [
       "['img1.jpg', 'img2.jpg', 'img3.jpg', 'ss.jpg']"
      ]
     },
     "execution_count": 5,
     "metadata": {},
     "output_type": "execute_result"
    }
   ],
   "source": [
    "lst_name=os.listdir(\"F:\\\\Computer vision\\\\OpenCV\\\\images\")\n",
    "lst_name"
   ]
  },
  {
   "cell_type": "code",
   "execution_count": 7,
   "metadata": {},
   "outputs": [],
   "source": [
    "for name in lst_name:\n",
    "    path=\"F:\\\\Computer vision\\\\OpenCV\\\\images\"\n",
    "    img_name=path + \"\\\\\" +name\n",
    "    img=cv2.imread(img_name)\n",
    "    re_img=cv2.resize(img,(300,300))\n",
    "    cv2.imshow(\"Slide show\",re_img)\n",
    "    cv2.waitKey(0)\n",
    "cv2.destroyAllWindows()  "
   ]
  },
  {
   "cell_type": "markdown",
   "metadata": {},
   "source": [
    "BGR IMAGE"
   ]
  },
  {
   "cell_type": "code",
   "execution_count": 8,
   "metadata": {},
   "outputs": [
    {
     "name": "stdout",
     "output_type": "stream",
     "text": [
      "(345, 460, 3)\n"
     ]
    }
   ],
   "source": [
    "img=cv2.imread(\"F:\\\\Computer vision\\\\OpenCV\\\\images\\\\img1.jpg\",1)\n",
    "print(img.shape)\n",
    "cv2.imshow(\"img_1\",img)\n",
    "cv2.waitKey(0)\n",
    "cv2.destroyAllWindows()"
   ]
  },
  {
   "cell_type": "markdown",
   "metadata": {},
   "source": [
    "Gray Scale Image"
   ]
  },
  {
   "cell_type": "code",
   "execution_count": 9,
   "metadata": {},
   "outputs": [
    {
     "name": "stdout",
     "output_type": "stream",
     "text": [
      "(768, 1024)\n"
     ]
    }
   ],
   "source": [
    "img=cv2.imread(\"F:\\\\Computer vision\\\\OpenCV\\\\images\\\\img2.jpg\",0)\n",
    "print(img.shape)\n",
    "img=cv2.resize(img,(300,300))\n",
    "cv2.imshow(\"img_1\",img)\n",
    "cv2.waitKey(0)\n",
    "cv2.destroyAllWindows()"
   ]
  },
  {
   "cell_type": "code",
   "execution_count": 9,
   "metadata": {},
   "outputs": [
    {
     "name": "stdout",
     "output_type": "stream",
     "text": [
      "(184, 342, 3)\n"
     ]
    }
   ],
   "source": [
    "img=cv2.imread(\"F:\\\\Computer vision\\\\OpenCV\\\\images\\\\img3.jpg\",-1)\n",
    "print(img.shape)\n",
    "cv2.imshow(\"img_1\",img)\n",
    "cv2.waitKey(0)\n",
    "cv2.destroyAllWindows()"
   ]
  },
  {
   "cell_type": "markdown",
   "metadata": {},
   "source": [
    "Text Over Image"
   ]
  },
  {
   "cell_type": "code",
   "execution_count": 10,
   "metadata": {},
   "outputs": [],
   "source": [
    "img_1=cv2.imread(\"F:\\\\Computer vision\\\\OpenCV\\\\images\\\\img1.jpg\")\n",
    "txt=cv2.putText(\n",
    "    img=img_1,\n",
    "    text=\"Gaurav\",\n",
    "    org=(100,100),\n",
    "    fontFace=cv2.FONT_HERSHEY_DUPLEX,\n",
    "    fontScale=2,\n",
    "    color=(255,0,0),\n",
    "    thickness=3,\n",
    "    lineType=cv2.LINE_8,\n",
    "    bottomLeftOrigin=False)\n",
    "cv2.imshow(\"Img\",txt)\n",
    "cv2.waitKey(0)\n",
    "cv2.destroyAllWindows()\n"
   ]
  },
  {
   "cell_type": "markdown",
   "metadata": {},
   "source": [
    "Draw Line and Rectangle on Image"
   ]
  },
  {
   "cell_type": "markdown",
   "metadata": {},
   "source": [
    "* Draw a Line"
   ]
  },
  {
   "cell_type": "code",
   "execution_count": 48,
   "metadata": {},
   "outputs": [],
   "source": [
    "old_img=cv2.imread(\"F:\\\\Computer vision\\\\OpenCV\\\\images\\\\ss.jpg\")\n",
    "old_img=cv2.resize(old_img,(500,600))\n",
    "\n",
    "new_img=cv2.line(img=old_img,pt1=(350,80),pt2=(140,80),color=(0,255,0),thickness=4,lineType=4)\n",
    "\n",
    "cv2.imshow(\"img\",new_img)\n",
    "cv2.waitKey(0)\n",
    "cv2.destroyAllWindows()"
   ]
  },
  {
   "cell_type": "markdown",
   "metadata": {},
   "source": [
    "* Draw a Rectangle"
   ]
  },
  {
   "cell_type": "code",
   "execution_count": 82,
   "metadata": {},
   "outputs": [],
   "source": [
    "old_img=cv2.imread(\"F:\\\\Computer vision\\\\OpenCV\\\\images\\\\ss.jpg\")\n",
    "old_img=cv2.resize(old_img,(500,600))\n",
    "txt_img=cv2.putText(img=old_img, text=\"Gaurav\", org=(120,20),\n",
    "                     fontFace=1, fontScale=1.6, color=(255,0,0),\n",
    "                       thickness=2)\n",
    "new_img=cv2.rectangle(img=old_img,pt1=(120,25),pt2=(370,380),color=(255,0,0),thickness=2,lineType=16)\n",
    "\n",
    "cv2.imshow(\"img\",txt_img)\n",
    "cv2.waitKey(0)\n",
    "cv2.destroyAllWindows()"
   ]
  },
  {
   "cell_type": "markdown",
   "metadata": {},
   "source": [
    "## Draw Circle On Image"
   ]
  },
  {
   "cell_type": "code",
   "execution_count": 121,
   "metadata": {},
   "outputs": [],
   "source": [
    "img_1=cv2.imread(\"F:\\\\Computer vision\\\\OpenCV\\\\images\\\\img4.jpg\")\n",
    "img_1=cv2.resize(img_1,(400,400))\n",
    "\n",
    "new_img=cv2.circle(img=img_1, center=(220,100) , radius=55, color=(0,255,0),\n",
    "                    thickness =2 , lineType=16,)\n",
    "\n",
    "cv2.imshow(\"img\",img_1)\n",
    "cv2.waitKey(0)\n",
    "cv2.destroyAllWindows()"
   ]
  },
  {
   "cell_type": "markdown",
   "metadata": {},
   "source": [
    "## Draw Ellipse On Image"
   ]
  },
  {
   "cell_type": "code",
   "execution_count": 147,
   "metadata": {},
   "outputs": [],
   "source": [
    "img_1=cv2.imread(\"F:\\\\Computer vision\\\\OpenCV\\\\images\\\\img4.jpg\")\n",
    "img_1=cv2.resize(img_1,(400,400))\n",
    "\n",
    "new_img=cv2.ellipse(img=img_1, center=(220,100), axes=(50,70), angle=30, \n",
    "                    startAngle=0, endAngle=360, color=(0,255,0), thickness=4, lineType=16)\n",
    "\n",
    "cv2.imshow(\"img\",img_1)\n",
    "cv2.waitKey(0)\n",
    "cv2.destroyAllWindows()"
   ]
  },
  {
   "cell_type": "markdown",
   "metadata": {},
   "source": [
    "## Draw Polygons On Image"
   ]
  },
  {
   "cell_type": "code",
   "execution_count": null,
   "metadata": {},
   "outputs": [],
   "source": []
  },
  {
   "cell_type": "code",
   "execution_count": null,
   "metadata": {},
   "outputs": [],
   "source": []
  }
 ],
 "metadata": {
  "kernelspec": {
   "display_name": "base",
   "language": "python",
   "name": "python3"
  },
  "language_info": {
   "codemirror_mode": {
    "name": "ipython",
    "version": 3
   },
   "file_extension": ".py",
   "mimetype": "text/x-python",
   "name": "python",
   "nbconvert_exporter": "python",
   "pygments_lexer": "ipython3",
   "version": "3.12.7"
  }
 },
 "nbformat": 4,
 "nbformat_minor": 2
}
