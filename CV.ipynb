{
 "cells": [
  {
   "cell_type": "code",
   "execution_count": 18,
   "metadata": {},
   "outputs": [],
   "source": [
    "import numpy as np\n",
    "import matplotlib.pyplot as plt\n",
    "import cv2\n",
    "import os"
   ]
  },
  {
   "cell_type": "markdown",
   "metadata": {},
   "source": [
    "Read and Show Images"
   ]
  },
  {
   "cell_type": "code",
   "execution_count": 29,
   "metadata": {},
   "outputs": [],
   "source": [
    "#Read and Show Single image\n",
    "\n",
    "img=cv2.imread(\"F:\\\\Computer vision\\\\OpenCV\\\\images\\\\img1.jpg\")\n",
    "cv2.imshow(\"Img_1\",img)\n",
    "cv2.waitKey(0)\n",
    "cv2.destroyAllWindows()"
   ]
  },
  {
   "cell_type": "code",
   "execution_count": 30,
   "metadata": {},
   "outputs": [],
   "source": [
    "#read and show multiple images\n",
    "img=cv2.imread(\"F:\\\\Computer vision\\\\OpenCV\\\\images\\\\img1.jpg\")\n",
    "img_2=cv2.imread(\"F:\\\\Computer vision\\\\OpenCV\\\\images\\\\img2.jpg\")\n",
    "re_img_2=cv2.resize(img_2,(400,400)) ##resize an image\n",
    "cv2.imshow(\"Img_1\",img)\n",
    "cv2.imshow(\"Img_2\",re_img_2)\n",
    "cv2.waitKey(0)\n",
    "cv2.destroyAllWindows()"
   ]
  },
  {
   "cell_type": "markdown",
   "metadata": {},
   "source": [
    "Show Multiple Images in Single Frame\""
   ]
  },
  {
   "cell_type": "code",
   "execution_count": 31,
   "metadata": {},
   "outputs": [],
   "source": [
    "img=cv2.imread(\"F:\\\\Computer vision\\\\OpenCV\\\\images\\\\img1.jpg\")\n",
    "img_2=cv2.imread(\"F:\\\\Computer vision\\\\OpenCV\\\\images\\\\img2.jpg\")\n",
    "re_img_1=cv2.resize(img,(300,300)) ##resize an image\n",
    "re_img_2=cv2.resize(img_2,(300,300)) ##resize an image\n",
    "#cv2.imshow(\"Img_1\",re_img_1)\n",
    "#cv2.imshow(\"Img_2\",re_img_2)\n",
    "h=np.hstack((re_img_1,re_img_2))\n",
    "v=np.vstack((h,h))\n",
    "cv2.imshow(\"Mul_Img\",v)\n",
    "cv2.waitKey(0)\n",
    "cv2.destroyAllWindows()"
   ]
  },
  {
   "cell_type": "markdown",
   "metadata": {},
   "source": [
    "Slide Show Using Opnecv"
   ]
  },
  {
   "cell_type": "code",
   "execution_count": 24,
   "metadata": {},
   "outputs": [
    {
     "data": {
      "text/plain": [
       "['img1.jpg', 'img2.jpg', 'img3.jpg']"
      ]
     },
     "execution_count": 24,
     "metadata": {},
     "output_type": "execute_result"
    }
   ],
   "source": [
    "lst_name=os.listdir(\"F:\\\\Computer vision\\\\OpenCV\\\\images\")\n",
    "lst_name"
   ]
  },
  {
   "cell_type": "code",
   "execution_count": 32,
   "metadata": {},
   "outputs": [],
   "source": [
    "for name in lst_name:\n",
    "    path=\"F:\\\\Computer vision\\\\OpenCV\\\\images\"\n",
    "    img_name=path + \"\\\\\" +name\n",
    "    img=cv2.imread(img_name)\n",
    "    re_img=cv2.resize(img,(300,300))\n",
    "    cv2.imshow(\"Slide show\",re_img)\n",
    "    cv2.waitKey(0)\n",
    "cv2.destroyAllWindows()  "
   ]
  },
  {
   "cell_type": "markdown",
   "metadata": {},
   "source": [
    "BGR IMAGE"
   ]
  },
  {
   "cell_type": "code",
   "execution_count": 35,
   "metadata": {},
   "outputs": [
    {
     "name": "stdout",
     "output_type": "stream",
     "text": [
      "(345, 460, 3)\n"
     ]
    }
   ],
   "source": [
    "img=cv2.imread(\"F:\\\\Computer vision\\\\OpenCV\\\\images\\\\img1.jpg\",1)\n",
    "print(img.shape)\n",
    "cv2.imshow(\"img_1\",img)\n",
    "cv2.waitKey(0)\n",
    "cv2.destroyAllWindows()"
   ]
  },
  {
   "cell_type": "markdown",
   "metadata": {},
   "source": [
    "Gray Scale Image"
   ]
  },
  {
   "cell_type": "code",
   "execution_count": 36,
   "metadata": {},
   "outputs": [
    {
     "name": "stdout",
     "output_type": "stream",
     "text": [
      "(768, 1024)\n"
     ]
    }
   ],
   "source": [
    "img=cv2.imread(\"F:\\\\Computer vision\\\\OpenCV\\\\images\\\\img2.jpg\",0)\n",
    "print(img.shape)\n",
    "img=cv2.resize(img,(300,300))\n",
    "cv2.imshow(\"img_1\",img)\n",
    "cv2.waitKey(0)\n",
    "cv2.destroyAllWindows()"
   ]
  },
  {
   "cell_type": "code",
   "execution_count": 39,
   "metadata": {},
   "outputs": [
    {
     "name": "stdout",
     "output_type": "stream",
     "text": [
      "(184, 342, 3)\n"
     ]
    }
   ],
   "source": [
    "img=cv2.imread(\"F:\\\\Computer vision\\\\OpenCV\\\\images\\\\img3.jpg\",-1)\n",
    "print(img.shape)\n",
    "cv2.imshow(\"img_1\",img)\n",
    "cv2.waitKey(0)\n",
    "cv2.destroyAllWindows()"
   ]
  },
  {
   "cell_type": "markdown",
   "metadata": {},
   "source": [
    "Text Over Image"
   ]
  },
  {
   "cell_type": "code",
   "execution_count": 47,
   "metadata": {},
   "outputs": [],
   "source": [
    "img_1=cv2.imread(\"F:\\\\Computer vision\\\\OpenCV\\\\images\\\\img1.jpg\")\n",
    "txt=cv2.putText(\n",
    "    img=img_1,\n",
    "    text=\"Gaurav\",\n",
    "    org=(100,100),\n",
    "    fontFace=cv2.FONT_HERSHEY_DUPLEX,\n",
    "    fontScale=2,\n",
    "    color=(255,0,0),\n",
    "    thickness=3,\n",
    "    lineType=cv2.LINE_8,\n",
    "    bottomLeftOrigin=False)\n",
    "cv2.imshow(\"Img\",txt)\n",
    "cv2.waitKey(0)\n",
    "cv2.destroyAllWindows()\n"
   ]
  },
  {
   "cell_type": "markdown",
   "metadata": {},
   "source": [
    "Draw Line and Rectangle on Image"
   ]
  },
  {
   "cell_type": "code",
   "execution_count": null,
   "metadata": {},
   "outputs": [],
   "source": []
  }
 ],
 "metadata": {
  "kernelspec": {
   "display_name": "base",
   "language": "python",
   "name": "python3"
  },
  "language_info": {
   "codemirror_mode": {
    "name": "ipython",
    "version": 3
   },
   "file_extension": ".py",
   "mimetype": "text/x-python",
   "name": "python",
   "nbconvert_exporter": "python",
   "pygments_lexer": "ipython3",
   "version": "3.12.7"
  }
 },
 "nbformat": 4,
 "nbformat_minor": 2
}
